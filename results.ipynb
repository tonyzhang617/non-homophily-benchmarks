{
 "cells": [
  {
   "cell_type": "code",
   "execution_count": 11,
   "metadata": {},
   "outputs": [],
   "source": [
    "import numpy as np\n",
    "import pandas as pd\n",
    "import os\n",
    "import re"
   ]
  },
  {
   "cell_type": "code",
   "execution_count": 23,
   "metadata": {},
   "outputs": [],
   "source": [
    "data = {\n",
    "    'dataset': [],\n",
    "    'hidden_channels': [],\n",
    "    'method': [],\n",
    "    'gat_heads': [],\n",
    "    'mean_epoch_time': [],\n",
    "    'total_training_time': [],\n",
    "}\n",
    "\n",
    "for entry in os.scandir('logs'):\n",
    "    if entry.is_file():\n",
    "        with open('logs/' + entry.name, 'r') as file:\n",
    "            dataset, hidden_channels, method, gat_heads = None, None, None, None\n",
    "            for line in file:\n",
    "                for k, v in zip(re.findall('(\\w+)=', line), re.findall('=([^,)]+)', line)):\n",
    "                    if k == 'dataset':\n",
    "                        dataset = v.strip('\\'')\n",
    "                    elif k == 'hidden_channels':\n",
    "                        hidden_channels = int(v)\n",
    "                    elif k == 'method':\n",
    "                        method = v\n",
    "                    elif k == 'gat_heads':\n",
    "                        gat_heads = int(v)\n",
    "\n",
    "                if line.startswith('Epoch: 475'):\n",
    "                    lst = line.split()\n",
    "                    data['dataset'].append(dataset)\n",
    "                    data['hidden_channels'].append(hidden_channels)\n",
    "                    data['method'].append(method)\n",
    "                    data['gat_heads'].append(gat_heads)\n",
    "                    data['mean_epoch_time'].append(float(lst[11].strip(',')))\n",
    "                    data['total_training_time'].append(float(lst[13].strip(',')))"
   ]
  },
  {
   "cell_type": "code",
   "execution_count": 30,
   "metadata": {},
   "outputs": [],
   "source": [
    "df = pd.DataFrame(data)\n",
    "df = df.groupby(['dataset', 'method', 'hidden_channels', 'gat_heads'], as_index=False).mean().sort_values(['dataset', 'method', 'hidden_channels', 'gat_heads'])"
   ]
  },
  {
   "cell_type": "code",
   "execution_count": 32,
   "metadata": {},
   "outputs": [],
   "source": [
    "df.to_csv('results.csv', sep='\\t')"
   ]
  }
 ],
 "metadata": {
  "kernelspec": {
   "display_name": "graph",
   "language": "python",
   "name": "python3"
  },
  "language_info": {
   "codemirror_mode": {
    "name": "ipython",
    "version": 3
   },
   "file_extension": ".py",
   "mimetype": "text/x-python",
   "name": "python",
   "nbconvert_exporter": "python",
   "pygments_lexer": "ipython3",
   "version": "3.8.13"
  },
  "orig_nbformat": 4
 },
 "nbformat": 4,
 "nbformat_minor": 2
}
